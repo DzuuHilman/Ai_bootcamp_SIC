{
 "cells": [
  {
   "cell_type": "markdown",
   "metadata": {},
   "source": [
    "# 1. Logistic Regression Basic\n"
   ]
  },
  {
   "cell_type": "markdown",
   "metadata": {},
   "source": [
    "## 1.1 Prepare the data\n"
   ]
  },
  {
   "cell_type": "markdown",
   "metadata": {},
   "source": [
    "First, import some library."
   ]
  },
  {
   "cell_type": "code",
   "execution_count": 80,
   "metadata": {},
   "outputs": [],
   "source": [
    "# For data organizing\n",
    "import numpy as np\n",
    "import pandas as pd\n",
    "\n",
    "# For data pretty \n",
    "import seaborn as sns\n",
    "import matplotlib.pyplot as plt\n",
    "\n",
    "# For machine learning\n",
    "from sklearn.linear_model import LogisticRegression\n",
    "from sklearn.metrics import mean_squared_error\n",
    "from sklearn.model_selection import train_test_split\n",
    "from sklearn import metrics"
   ]
  },
  {
   "cell_type": "markdown",
   "metadata": {},
   "source": [
    "Then we start to make or import big data to make machine learning model."
   ]
  },
  {
   "cell_type": "code",
   "execution_count": 81,
   "metadata": {},
   "outputs": [
    {
     "name": "stdout",
     "output_type": "stream",
     "text": [
      "<class 'pandas.core.frame.DataFrame'>\n",
      "Index: 700 entries, 0 to 699\n",
      "Data columns (total 9 columns):\n",
      " #   Column    Non-Null Count  Dtype  \n",
      "---  ------    --------------  -----  \n",
      " 0   age       700 non-null    int64  \n",
      " 1   ed        700 non-null    int64  \n",
      " 2   employ    700 non-null    int64  \n",
      " 3   address   700 non-null    int64  \n",
      " 4   income    700 non-null    int64  \n",
      " 5   debtinc   700 non-null    float64\n",
      " 6   creddebt  700 non-null    float64\n",
      " 7   othdebt   700 non-null    float64\n",
      " 8   default   700 non-null    float64\n",
      "dtypes: float64(4), int64(5)\n",
      "memory usage: 54.7 KB\n"
     ]
    }
   ],
   "source": [
    "# in this time, i use csv file that has header inside it. \n",
    "# If you want to use dictionary, use 'pd.DataFrame(your_dictionary)' syntax. it is because the data you make before is not a data frame, unlike csv file\n",
    "dataset_bank_load = pd.read_csv(r\"D:\\Pendidikan\\Pelatihan\\Samsung_Inovation_Campus_Batch_5\\Stage 3 - AI bootcamp\\Code\\MachineLearning\\bank-loan.csv\", encoding= 'latin-1')\n",
    "# the data still contain NaN data. In order to make the model works, these data should be remove.\n",
    "dataset_bank_load_without_null = dataset_bank_load.dropna(subset='default')\n",
    "dataset_bank_load_without_null.info()"
   ]
  },
  {
   "cell_type": "markdown",
   "metadata": {},
   "source": [
    "For comparing the result and the prediction, let's split the data into two part. First part will be used for training model and the other one will be used for test."
   ]
  },
  {
   "cell_type": "code",
   "execution_count": 82,
   "metadata": {},
   "outputs": [
    {
     "data": {
      "text/plain": [
       "82     0.0\n",
       "51     0.0\n",
       "220    0.0\n",
       "669    0.0\n",
       "545    0.0\n",
       "      ... \n",
       "71     0.0\n",
       "106    1.0\n",
       "270    0.0\n",
       "435    0.0\n",
       "102    0.0\n",
       "Name: default, Length: 560, dtype: float64"
      ]
     },
     "execution_count": 82,
     "metadata": {},
     "output_type": "execute_result"
    }
   ],
   "source": [
    "feature = dataset_bank_load_without_null.drop(columns='default')\n",
    "target = dataset_bank_load_without_null['default']\n",
    "feature_train, feature_test, target_train, target_test = train_test_split(feature, target, test_size= 0.2, random_state=42)     # Separate the data for test by 20% (0.2)\n",
    "target_train\n"
   ]
  },
  {
   "cell_type": "markdown",
   "metadata": {},
   "source": [
    "## 1.2 Start training model"
   ]
  },
  {
   "cell_type": "markdown",
   "metadata": {},
   "source": [
    "Now, we can start training using Linear Regression.<br>\n",
    "To make a training model, there should be one feature and one target. Feature is something that we have known and target is something that will we predict the value.<br>\n",
    "\n",
    "For example, we want to predict house price with 200m^2 wide. Price value is target and house wide is feature."
   ]
  },
  {
   "cell_type": "code",
   "execution_count": 88,
   "metadata": {},
   "outputs": [
    {
     "data": {
      "text/plain": [
       "158    1.0\n",
       "500    0.0\n",
       "396    0.0\n",
       "155    0.0\n",
       "321    1.0\n",
       "      ... \n",
       "24     1.0\n",
       "218    1.0\n",
       "431    0.0\n",
       "281    1.0\n",
       "110    0.0\n",
       "Name: default, Length: 140, dtype: float64"
      ]
     },
     "execution_count": 88,
     "metadata": {},
     "output_type": "execute_result"
    }
   ],
   "source": [
    "# Initiate linear regression object\n",
    "model_logistic = LogisticRegression()\n",
    "model_logistic.fit(feature_train, target_train)\n",
    "target_test"
   ]
  },
  {
   "cell_type": "markdown",
   "metadata": {},
   "source": [
    "The syntax below is to show  intercept and slope of the equation.<br>\n",
    "When we have equation like y = ax + b, with y is result we need, then a = slope; b = intercept.\n"
   ]
  },
  {
   "cell_type": "code",
   "execution_count": 84,
   "metadata": {},
   "outputs": [
    {
     "name": "stdout",
     "output_type": "stream",
     "text": [
      "Slope  0.032805231552039786\n",
      "Intercept -1.4947235748534362\n",
      "Equation = 0.032805231552039786x + -1.4947235748534362\n"
     ]
    }
   ],
   "source": [
    "# show slope\n",
    "print(\"Slope \", model_logistic.coef_[0][0])\n",
    "# show intercept\n",
    "print(\"Intercept\", model_logistic.intercept_[0])\n",
    "print(f\"Equation = {model_logistic.coef_[0][0]}x + {model_logistic.intercept_[0]}\")"
   ]
  },
  {
   "cell_type": "code",
   "execution_count": 94,
   "metadata": {},
   "outputs": [
    {
     "name": "stdout",
     "output_type": "stream",
     "text": [
      "RSQ Score  0.85\n",
      "MSE Score  0.15\n"
     ]
    }
   ],
   "source": [
    "\n",
    "# Now, try to predict the target using feature_test. \n",
    "prediction_costumer_pay_or_not = model_logistic.predict(feature_test)\n",
    "print(\"RSQ Score \", metrics.accuracy_score(target_test, prediction_costumer_pay_or_not))\n",
    "print(\"MSE Score \", mean_squared_error(target_test, prediction_costumer_pay_or_not))"
   ]
  },
  {
   "cell_type": "markdown",
   "metadata": {},
   "source": [
    "The model precision and accuracy can be represented as root square (R^2) and root mean square (R). "
   ]
  },
  {
   "cell_type": "code",
   "execution_count": 96,
   "metadata": {},
   "outputs": [
    {
     "name": "stdout",
     "output_type": "stream",
     "text": [
      "R2  0.81\n",
      "MSE  0.19\n"
     ]
    }
   ],
   "source": [
    "r2 =  model_logistic.score(feature, target)\n",
    "mse = mean_squared_error(target, model_logistic.predict(feature))\n",
    "print(\"R2 \", r2)\n",
    "print(\"MSE \", mse)"
   ]
  }
 ],
 "metadata": {
  "kernelspec": {
   "display_name": "Python 3",
   "language": "python",
   "name": "python3"
  },
  "language_info": {
   "codemirror_mode": {
    "name": "ipython",
    "version": 3
   },
   "file_extension": ".py",
   "mimetype": "text/x-python",
   "name": "python",
   "nbconvert_exporter": "python",
   "pygments_lexer": "ipython3",
   "version": "3.12.2"
  }
 },
 "nbformat": 4,
 "nbformat_minor": 2
}
