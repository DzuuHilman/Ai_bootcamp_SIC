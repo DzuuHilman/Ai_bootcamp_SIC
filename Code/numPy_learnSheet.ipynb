{
 "cells": [
  {
   "cell_type": "markdown",
   "metadata": {},
   "source": [
    "In this notebook, we will use numpy, pandas, matplotlib, and seaborn to learn a little about data science. In this IDE (VS Code), i use  expand_frame_repr to ensure the output is more readable, while in other IDE, like Goggle Collab, it's not requiered to add this syntax."
   ]
  },
  {
   "cell_type": "code",
   "execution_count": 18,
   "metadata": {},
   "outputs": [],
   "source": [
    "import numpy as np\n",
    "import pandas as pd\n",
    "import matplotlib.pyplot as plt         #used for animating data\n",
    "import seaborn as sns                   #used for improve matplotlib animation\n",
    "\n",
    "pd.options.display.expand_frame_repr = False"
   ]
  },
  {
   "cell_type": "markdown",
   "metadata": {},
   "source": [
    "First, we need to read the data, either from external source, like Excel, or from internal, like make a new array.\n",
    "\n",
    "If you notice, in this code i use a char 'r' inside the filepath syntax. It's because somehow if i don't use it, there's an error with tag 'backlash'."
   ]
  },
  {
   "cell_type": "code",
   "execution_count": 19,
   "metadata": {},
   "outputs": [
    {
     "name": "stdout",
     "output_type": "stream",
     "text": [
      "   ORDERNUMBER  QUANTITYORDERED  PRICEEACH  ORDERLINENUMBER    SALES       ORDERDATE   STATUS  QTR_ID  MONTH_ID  YEAR_ID  ...                   ADDRESSLINE1  ADDRESSLINE2   CITY STATE POSTALCODE COUNTRY TERRITORY CONTACTLASTNAME CONTACTFIRSTNAME DEALSIZE\n",
      "0        10107               30      95.70                2  2871.00  2/24/2003 0:00  Shipped       1         2     2003  ...        897 Long Airport Avenue           NaN    NYC    NY      10022     USA       NaN              Yu             Kwai    Small\n",
      "1        10121               34      81.35                5  2765.90   5/7/2003 0:00  Shipped       2         5     2003  ...             59 rue de l'Abbaye           NaN  Reims   NaN      51100  France      EMEA         Henriot             Paul    Small\n",
      "2        10134               41      94.74                2  3884.34   7/1/2003 0:00  Shipped       3         7     2003  ...  27 rue du Colonel Pierre Avia           NaN  Paris   NaN      75508  France      EMEA        Da Cunha           Daniel   Medium\n",
      "\n",
      "[3 rows x 25 columns]\n",
      "      ORDERNUMBER  QUANTITYORDERED  PRICEEACH  ORDERLINENUMBER    SALES       ORDERDATE    STATUS  QTR_ID  MONTH_ID  YEAR_ID  ...           ADDRESSLINE1  ADDRESSLINE2      CITY STATE POSTALCODE COUNTRY TERRITORY CONTACTLASTNAME CONTACTFIRSTNAME DEALSIZE\n",
      "2820        10386               43     100.00                4  5417.57   3/1/2005 0:00  Resolved       1         3     2005  ...     C/ Moralzarzal, 86           NaN    Madrid   NaN      28034   Spain      EMEA          Freyre            Diego   Medium\n",
      "2821        10397               34      62.24                1  2116.16  3/28/2005 0:00   Shipped       1         3     2005  ...  1 rue Alsace-Lorraine           NaN  Toulouse   NaN      31000  France      EMEA          Roulet          Annette    Small\n",
      "2822        10414               47      65.52                9  3079.44   5/6/2005 0:00   On Hold       2         5     2005  ...     8616 Spinnaker Dr.           NaN    Boston    MA      51003     USA       NaN         Yoshido             Juri   Medium\n",
      "\n",
      "[3 rows x 25 columns]\n"
     ]
    }
   ],
   "source": [
    "sales_df = pd.read_csv(r\"D:\\Pendidikan\\Pelatihan\\Samsung Inovation Campus Batch 5\\Stage 3 - AI bootcamp\\sales_data_sample.csv\", encoding= 'latin-1')\n",
    "\n",
    "print(sales_df.head(3))                 #.head(n) syntax is used to display first n row of array\n",
    "print(sales_df.tail(3))                 #while .tail(n) display the last n row"
   ]
  },
  {
   "cell_type": "code",
   "execution_count": 20,
   "metadata": {},
   "outputs": [
    {
     "data": {
      "text/html": [
       "<div>\n",
       "<style scoped>\n",
       "    .dataframe tbody tr th:only-of-type {\n",
       "        vertical-align: middle;\n",
       "    }\n",
       "\n",
       "    .dataframe tbody tr th {\n",
       "        vertical-align: top;\n",
       "    }\n",
       "\n",
       "    .dataframe thead th {\n",
       "        text-align: right;\n",
       "    }\n",
       "</style>\n",
       "<table border=\"1\" class=\"dataframe\">\n",
       "  <thead>\n",
       "    <tr style=\"text-align: right;\">\n",
       "      <th></th>\n",
       "      <th>ORDERNUMBER</th>\n",
       "      <th>QUANTITYORDERED</th>\n",
       "      <th>PRICEEACH</th>\n",
       "      <th>ORDERLINENUMBER</th>\n",
       "      <th>SALES</th>\n",
       "      <th>QTR_ID</th>\n",
       "      <th>MONTH_ID</th>\n",
       "      <th>YEAR_ID</th>\n",
       "      <th>MSRP</th>\n",
       "    </tr>\n",
       "  </thead>\n",
       "  <tbody>\n",
       "    <tr>\n",
       "      <th>count</th>\n",
       "      <td>2823.000000</td>\n",
       "      <td>2823.000000</td>\n",
       "      <td>2823.000000</td>\n",
       "      <td>2823.000000</td>\n",
       "      <td>2823.000000</td>\n",
       "      <td>2823.000000</td>\n",
       "      <td>2823.000000</td>\n",
       "      <td>2823.00000</td>\n",
       "      <td>2823.000000</td>\n",
       "    </tr>\n",
       "    <tr>\n",
       "      <th>mean</th>\n",
       "      <td>10258.725115</td>\n",
       "      <td>35.092809</td>\n",
       "      <td>83.658544</td>\n",
       "      <td>6.466171</td>\n",
       "      <td>3553.889072</td>\n",
       "      <td>2.717676</td>\n",
       "      <td>7.092455</td>\n",
       "      <td>2003.81509</td>\n",
       "      <td>100.715551</td>\n",
       "    </tr>\n",
       "    <tr>\n",
       "      <th>std</th>\n",
       "      <td>92.085478</td>\n",
       "      <td>9.741443</td>\n",
       "      <td>20.174277</td>\n",
       "      <td>4.225841</td>\n",
       "      <td>1841.865106</td>\n",
       "      <td>1.203878</td>\n",
       "      <td>3.656633</td>\n",
       "      <td>0.69967</td>\n",
       "      <td>40.187912</td>\n",
       "    </tr>\n",
       "    <tr>\n",
       "      <th>min</th>\n",
       "      <td>10100.000000</td>\n",
       "      <td>6.000000</td>\n",
       "      <td>26.880000</td>\n",
       "      <td>1.000000</td>\n",
       "      <td>482.130000</td>\n",
       "      <td>1.000000</td>\n",
       "      <td>1.000000</td>\n",
       "      <td>2003.00000</td>\n",
       "      <td>33.000000</td>\n",
       "    </tr>\n",
       "    <tr>\n",
       "      <th>25%</th>\n",
       "      <td>10180.000000</td>\n",
       "      <td>27.000000</td>\n",
       "      <td>68.860000</td>\n",
       "      <td>3.000000</td>\n",
       "      <td>2203.430000</td>\n",
       "      <td>2.000000</td>\n",
       "      <td>4.000000</td>\n",
       "      <td>2003.00000</td>\n",
       "      <td>68.000000</td>\n",
       "    </tr>\n",
       "    <tr>\n",
       "      <th>50%</th>\n",
       "      <td>10262.000000</td>\n",
       "      <td>35.000000</td>\n",
       "      <td>95.700000</td>\n",
       "      <td>6.000000</td>\n",
       "      <td>3184.800000</td>\n",
       "      <td>3.000000</td>\n",
       "      <td>8.000000</td>\n",
       "      <td>2004.00000</td>\n",
       "      <td>99.000000</td>\n",
       "    </tr>\n",
       "    <tr>\n",
       "      <th>75%</th>\n",
       "      <td>10333.500000</td>\n",
       "      <td>43.000000</td>\n",
       "      <td>100.000000</td>\n",
       "      <td>9.000000</td>\n",
       "      <td>4508.000000</td>\n",
       "      <td>4.000000</td>\n",
       "      <td>11.000000</td>\n",
       "      <td>2004.00000</td>\n",
       "      <td>124.000000</td>\n",
       "    </tr>\n",
       "    <tr>\n",
       "      <th>max</th>\n",
       "      <td>10425.000000</td>\n",
       "      <td>97.000000</td>\n",
       "      <td>100.000000</td>\n",
       "      <td>18.000000</td>\n",
       "      <td>14082.800000</td>\n",
       "      <td>4.000000</td>\n",
       "      <td>12.000000</td>\n",
       "      <td>2005.00000</td>\n",
       "      <td>214.000000</td>\n",
       "    </tr>\n",
       "  </tbody>\n",
       "</table>\n",
       "</div>"
      ],
      "text/plain": [
       "        ORDERNUMBER  QUANTITYORDERED    PRICEEACH  ORDERLINENUMBER         SALES       QTR_ID     MONTH_ID     YEAR_ID         MSRP\n",
       "count   2823.000000      2823.000000  2823.000000      2823.000000   2823.000000  2823.000000  2823.000000  2823.00000  2823.000000\n",
       "mean   10258.725115        35.092809    83.658544         6.466171   3553.889072     2.717676     7.092455  2003.81509   100.715551\n",
       "std       92.085478         9.741443    20.174277         4.225841   1841.865106     1.203878     3.656633     0.69967    40.187912\n",
       "min    10100.000000         6.000000    26.880000         1.000000    482.130000     1.000000     1.000000  2003.00000    33.000000\n",
       "25%    10180.000000        27.000000    68.860000         3.000000   2203.430000     2.000000     4.000000  2003.00000    68.000000\n",
       "50%    10262.000000        35.000000    95.700000         6.000000   3184.800000     3.000000     8.000000  2004.00000    99.000000\n",
       "75%    10333.500000        43.000000   100.000000         9.000000   4508.000000     4.000000    11.000000  2004.00000   124.000000\n",
       "max    10425.000000        97.000000   100.000000        18.000000  14082.800000     4.000000    12.000000  2005.00000   214.000000"
      ]
     },
     "execution_count": 20,
     "metadata": {},
     "output_type": "execute_result"
    }
   ],
   "source": [
    "sales_df['COUNTRY'].value_counts()\n",
    "sales_df.describe(\n",
    ")"
   ]
  },
  {
   "cell_type": "code",
   "execution_count": null,
   "metadata": {},
   "outputs": [],
   "source": []
  }
 ],
 "metadata": {
  "kernelspec": {
   "display_name": "Python 3",
   "language": "python",
   "name": "python3"
  },
  "language_info": {
   "codemirror_mode": {
    "name": "ipython",
    "version": 3
   },
   "file_extension": ".py",
   "mimetype": "text/x-python",
   "name": "python",
   "nbconvert_exporter": "python",
   "pygments_lexer": "ipython3",
   "version": "3.12.2"
  }
 },
 "nbformat": 4,
 "nbformat_minor": 2
}
