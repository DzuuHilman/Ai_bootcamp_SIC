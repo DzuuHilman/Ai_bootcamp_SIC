{
 "cells": [
  {
   "cell_type": "markdown",
   "metadata": {},
   "source": [
    "In this notebook, we will use numpy, pandas, matplotlib, and seaborn to learn a little about data science. In this IDE (VS Code), i use  expand_frame_repr to ensure the output is more readable, while in other IDE, like Goggle Collab, it's not requiered to add this syntax."
   ]
  },
  {
   "cell_type": "code",
   "execution_count": 23,
   "metadata": {},
   "outputs": [],
   "source": [
    "import numpy as np\n",
    "import pandas as pd\n",
    "import matplotlib.pyplot as plt         #used for animating data\n",
    "import seaborn as sns                   #used for improve matplotlib animation\n",
    "\n",
    "pd.options.display.expand_frame_repr = False"
   ]
  },
  {
   "cell_type": "markdown",
   "metadata": {},
   "source": [
    "First, we need to read the data, either from external source, like Excel, or from internal, like make a new array.\n",
    "\n",
    "If you notice, in this code i use a char 'r' inside the filepath syntax. It's because somehow if i don't use it, there's an error with tag 'backlash'."
   ]
  },
  {
   "cell_type": "code",
   "execution_count": 27,
   "metadata": {},
   "outputs": [
    {
     "name": "stdout",
     "output_type": "stream",
     "text": [
      "   ORDERNUMBER  QUANTITYORDERED  PRICEEACH  ORDERLINENUMBER    SALES       ORDERDATE   STATUS  QTR_ID  MONTH_ID  YEAR_ID  PRODUCTLINE  MSRP PRODUCTCODE        CUSTOMERNAME             PHONE                   ADDRESSLINE1 ADDRESSLINE2   CITY STATE POSTALCODE COUNTRY TERRITORY CONTACTLASTNAME CONTACTFIRSTNAME DEALSIZE\n",
      "0        10107               30      95.70                2  2871.00  2/24/2003 0:00  Shipped       1         2     2003  Motorcycles    95    S10_1678   Land of Toys Inc.        2125557818        897 Long Airport Avenue          NaN    NYC    NY      10022     USA       NaN              Yu             Kwai    Small\n",
      "1        10121               34      81.35                5  2765.90   5/7/2003 0:00  Shipped       2         5     2003  Motorcycles    95    S10_1678  Reims Collectables        26.47.1555             59 rue de l'Abbaye          NaN  Reims   NaN      51100  France      EMEA         Henriot             Paul    Small\n",
      "2        10134               41      94.74                2  3884.34   7/1/2003 0:00  Shipped       3         7     2003  Motorcycles    95    S10_1678     Lyon Souveniers  +33 1 46 62 7555  27 rue du Colonel Pierre Avia          NaN  Paris   NaN      75508  France      EMEA        Da Cunha           Daniel   Medium\n",
      "      ORDERNUMBER  QUANTITYORDERED  PRICEEACH  ORDERLINENUMBER    SALES       ORDERDATE    STATUS  QTR_ID  MONTH_ID  YEAR_ID PRODUCTLINE  MSRP PRODUCTCODE           CUSTOMERNAME           PHONE           ADDRESSLINE1 ADDRESSLINE2      CITY STATE POSTALCODE COUNTRY TERRITORY CONTACTLASTNAME CONTACTFIRSTNAME DEALSIZE\n",
      "2820        10386               43     100.00                4  5417.57   3/1/2005 0:00  Resolved       1         3     2005       Ships    54    S72_3212  Euro Shopping Channel  (91) 555 94 44     C/ Moralzarzal, 86          NaN    Madrid   NaN      28034   Spain      EMEA          Freyre            Diego   Medium\n",
      "2821        10397               34      62.24                1  2116.16  3/28/2005 0:00   Shipped       1         3     2005       Ships    54    S72_3212           Alpha Cognac      61.77.6555  1 rue Alsace-Lorraine          NaN  Toulouse   NaN      31000  France      EMEA          Roulet          Annette    Small\n",
      "2822        10414               47      65.52                9  3079.44   5/6/2005 0:00   On Hold       2         5     2005       Ships    54    S72_3212      Gifts4AllAges.com      6175559555     8616 Spinnaker Dr.          NaN    Boston    MA      51003     USA       NaN         Yoshido             Juri   Medium\n"
     ]
    }
   ],
   "source": [
    "sales_df = pd.read_csv(r\"D:\\Pendidikan\\Pelatihan\\Samsung Inovation Campus Batch 5\\Stage 3 - AI bootcamp\\sales_data_sample.csv\", encoding= 'latin-1')\n",
    "\n",
    "print(sales_df.head(3))                 #.head(n) syntax is used to display first n row of array\n",
    "print(sales_df.tail(3))                 #while .tail(n) display the last n row"
   ]
  },
  {
   "cell_type": "code",
   "execution_count": null,
   "metadata": {},
   "outputs": [],
   "source": []
  }
 ],
 "metadata": {
  "kernelspec": {
   "display_name": "Python 3",
   "language": "python",
   "name": "python3"
  },
  "language_info": {
   "codemirror_mode": {
    "name": "ipython",
    "version": 3
   },
   "file_extension": ".py",
   "mimetype": "text/x-python",
   "name": "python",
   "nbconvert_exporter": "python",
   "pygments_lexer": "ipython3",
   "version": "3.12.2"
  }
 },
 "nbformat": 4,
 "nbformat_minor": 2
}
